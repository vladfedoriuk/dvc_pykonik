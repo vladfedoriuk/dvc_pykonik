{
 "cells": [
  {
   "cell_type": "markdown",
   "source": [
    "### Data exploration"
   ],
   "metadata": {
    "collapsed": false
   }
  },
  {
   "cell_type": "code",
   "execution_count": 2,
   "outputs": [
    {
     "name": "stdout",
     "output_type": "stream",
     "text": [
      "<class 'pandas.core.frame.DataFrame'>\n",
      "RangeIndex: 6822 entries, 0 to 6821\n",
      "Data columns (total 11 columns):\n",
      " #   Column          Non-Null Count  Dtype \n",
      "---  ------          --------------  ----- \n",
      " 0   author          4923 non-null   object\n",
      " 1   claimed_source  4823 non-null   object\n",
      " 2   date            4908 non-null   object\n",
      " 3   title           6822 non-null   object\n",
      " 4   content         6682 non-null   object\n",
      " 5   url             6822 non-null   object\n",
      " 6   source          6822 non-null   object\n",
      " 7   tags            6680 non-null   object\n",
      " 8   summary         6682 non-null   object\n",
      " 9   categories      2934 non-null   object\n",
      " 10  subjects        2934 non-null   object\n",
      "dtypes: object(11)\n",
      "memory usage: 586.4+ KB\n"
     ]
    }
   ],
   "source": [
    "import pandas as pd\n",
    "from pathlib import Path\n",
    "\n",
    "DATA_PATH = Path(\"data\")\n",
    "\n",
    "df = pd.read_csv(DATA_PATH / \"database.csv\", lineterminator=\"\\n\")\n",
    "df.info()"
   ],
   "metadata": {
    "collapsed": false
   }
  },
  {
   "cell_type": "code",
   "execution_count": 4,
   "outputs": [
    {
     "data": {
      "text/plain": "         author               claimed_source               date  \\\n0   autor: ansa               źródło: PAP     09:50, 02.11.2022   \n1  autor: akune      źródło: PAP, Twitter     17:54, 13.10.2022   \n2   autor: kawi               źródło: PAP     12:09, 17.10.2022   \n3  autor: msies               źródło: PAP     20:03, 27.10.2022   \n4   autor: kawi               źródło: PAP     09:18, 31.10.2022   \n\n                                               title  \\\n0  Szrot: Prezydent popiera wszystkie inicjatywy,...   \n1  „Panel obywatelski może być narzędziem wsparci...   \n2  Posłowie KO chcą informacji nt. „rosyjskiego w...   \n3  „Potrzebne jest złagodzenie emocji politycznyc...   \n4  Müller: Polska planuje kilka elektrowni jądrow...   \n\n                                             content  \\\n0  Wicepremier, szef MON Mariusz Błaszczak poinfo...   \n1  W czwartek w Senacie podczas posiedzenia Nadzw...   \n2  Posłowie KO zorganizowali w poniedziałek w Sej...   \n3  Rzecznik rządu w czwartek był pytany w TVP Inf...   \n4  W piątek premier Mateusz Morawiecki poinformow...   \n\n                                                 url source  \\\n0  http://www.tvpparlament.pl/aktualnosci/szrot-p...    tvp   \n1  http://www.tvpparlament.pl/aktualnosci/panel-o...    tvp   \n2  http://www.tvpparlament.pl/aktualnosci/poslowi...    tvp   \n3  http://www.tvpparlament.pl/aktualnosci/potrzeb...    tvp   \n4  http://www.tvpparlament.pl/aktualnosci/mller-p...    tvp   \n\n                                                tags  \\\n0  polsko, Kaliningradu, Bliskiego Wschodu, Skarb...   \n1  Jakub Wygnański, Komisji Nadzwyczajnej, Jakub ...   \n2        polskich, Polsce, polską, polskiego, Polski   \n3   Polsce, Izby Dyscyplinarnej, Polska, KPO, Polski   \n4  amerykańska, Müller, Polsce, amerykańskiej, am...   \n\n                                             summary         categories  \\\n0  Jak zaznaczył, będą też prowadzone prace związ...      Administracja   \n1  W tej chwili dynamicznie ta liczba wzrasta dod...  Finanse publiczne   \n2  Jak go spytałem, za ile i co im sprzedał, powi...                NaN   \n3  Wniosek właściwie jest gotowy odpowiedział. Ja...                KPO   \n4  W takich sytuacjach ocenia się technologię, ko...                NaN   \n\n  subjects  \n0      kas  \n1   budżet  \n2      NaN  \n3      KPO  \n4      NaN  ",
      "text/html": "<div>\n<style scoped>\n    .dataframe tbody tr th:only-of-type {\n        vertical-align: middle;\n    }\n\n    .dataframe tbody tr th {\n        vertical-align: top;\n    }\n\n    .dataframe thead th {\n        text-align: right;\n    }\n</style>\n<table border=\"1\" class=\"dataframe\">\n  <thead>\n    <tr style=\"text-align: right;\">\n      <th></th>\n      <th>author</th>\n      <th>claimed_source</th>\n      <th>date</th>\n      <th>title</th>\n      <th>content</th>\n      <th>url</th>\n      <th>source</th>\n      <th>tags</th>\n      <th>summary</th>\n      <th>categories</th>\n      <th>subjects</th>\n    </tr>\n  </thead>\n  <tbody>\n    <tr>\n      <th>0</th>\n      <td>autor: ansa</td>\n      <td>źródło: PAP</td>\n      <td>09:50, 02.11.2022</td>\n      <td>Szrot: Prezydent popiera wszystkie inicjatywy,...</td>\n      <td>Wicepremier, szef MON Mariusz Błaszczak poinfo...</td>\n      <td>http://www.tvpparlament.pl/aktualnosci/szrot-p...</td>\n      <td>tvp</td>\n      <td>polsko, Kaliningradu, Bliskiego Wschodu, Skarb...</td>\n      <td>Jak zaznaczył, będą też prowadzone prace związ...</td>\n      <td>Administracja</td>\n      <td>kas</td>\n    </tr>\n    <tr>\n      <th>1</th>\n      <td>autor: akune</td>\n      <td>źródło: PAP, Twitter</td>\n      <td>17:54, 13.10.2022</td>\n      <td>„Panel obywatelski może być narzędziem wsparci...</td>\n      <td>W czwartek w Senacie podczas posiedzenia Nadzw...</td>\n      <td>http://www.tvpparlament.pl/aktualnosci/panel-o...</td>\n      <td>tvp</td>\n      <td>Jakub Wygnański, Komisji Nadzwyczajnej, Jakub ...</td>\n      <td>W tej chwili dynamicznie ta liczba wzrasta dod...</td>\n      <td>Finanse publiczne</td>\n      <td>budżet</td>\n    </tr>\n    <tr>\n      <th>2</th>\n      <td>autor: kawi</td>\n      <td>źródło: PAP</td>\n      <td>12:09, 17.10.2022</td>\n      <td>Posłowie KO chcą informacji nt. „rosyjskiego w...</td>\n      <td>Posłowie KO zorganizowali w poniedziałek w Sej...</td>\n      <td>http://www.tvpparlament.pl/aktualnosci/poslowi...</td>\n      <td>tvp</td>\n      <td>polskich, Polsce, polską, polskiego, Polski</td>\n      <td>Jak go spytałem, za ile i co im sprzedał, powi...</td>\n      <td>NaN</td>\n      <td>NaN</td>\n    </tr>\n    <tr>\n      <th>3</th>\n      <td>autor: msies</td>\n      <td>źródło: PAP</td>\n      <td>20:03, 27.10.2022</td>\n      <td>„Potrzebne jest złagodzenie emocji politycznyc...</td>\n      <td>Rzecznik rządu w czwartek był pytany w TVP Inf...</td>\n      <td>http://www.tvpparlament.pl/aktualnosci/potrzeb...</td>\n      <td>tvp</td>\n      <td>Polsce, Izby Dyscyplinarnej, Polska, KPO, Polski</td>\n      <td>Wniosek właściwie jest gotowy odpowiedział. Ja...</td>\n      <td>KPO</td>\n      <td>KPO</td>\n    </tr>\n    <tr>\n      <th>4</th>\n      <td>autor: kawi</td>\n      <td>źródło: PAP</td>\n      <td>09:18, 31.10.2022</td>\n      <td>Müller: Polska planuje kilka elektrowni jądrow...</td>\n      <td>W piątek premier Mateusz Morawiecki poinformow...</td>\n      <td>http://www.tvpparlament.pl/aktualnosci/mller-p...</td>\n      <td>tvp</td>\n      <td>amerykańska, Müller, Polsce, amerykańskiej, am...</td>\n      <td>W takich sytuacjach ocenia się technologię, ko...</td>\n      <td>NaN</td>\n      <td>NaN</td>\n    </tr>\n  </tbody>\n</table>\n</div>"
     },
     "execution_count": 4,
     "metadata": {},
     "output_type": "execute_result"
    }
   ],
   "source": [
    "df.head()"
   ],
   "metadata": {
    "collapsed": false
   }
  },
  {
   "cell_type": "markdown",
   "source": [
    "### Data modification"
   ],
   "metadata": {
    "collapsed": false
   }
  },
  {
   "cell_type": "code",
   "execution_count": 6,
   "outputs": [
    {
     "name": "stdout",
     "output_type": "stream",
     "text": [
      "<class 'pandas.core.frame.DataFrame'>\n",
      "Int64Index: 2934 entries, 0 to 6820\n",
      "Data columns (total 11 columns):\n",
      " #   Column          Non-Null Count  Dtype \n",
      "---  ------          --------------  ----- \n",
      " 0   author          2461 non-null   object\n",
      " 1   claimed_source  1406 non-null   object\n",
      " 2   date            2329 non-null   object\n",
      " 3   title           2934 non-null   object\n",
      " 4   content         2934 non-null   object\n",
      " 5   url             2934 non-null   object\n",
      " 6   source          2934 non-null   object\n",
      " 7   tags            2934 non-null   object\n",
      " 8   summary         2934 non-null   object\n",
      " 9   categories      2934 non-null   object\n",
      " 10  subjects        2934 non-null   object\n",
      "dtypes: object(11)\n",
      "memory usage: 275.1+ KB\n"
     ]
    }
   ],
   "source": [
    "df = df[~df[\"categories\"].isnull()]\n",
    "df = df[~df[\"subjects\"].isnull()]"
   ],
   "metadata": {
    "collapsed": false
   }
  },
  {
   "cell_type": "code",
   "execution_count": 9,
   "outputs": [
    {
     "name": "stdout",
     "output_type": "stream",
     "text": [
      "<class 'pandas.core.frame.DataFrame'>\n",
      "Int64Index: 2934 entries, 0 to 6820\n",
      "Data columns (total 11 columns):\n",
      " #   Column          Non-Null Count  Dtype \n",
      "---  ------          --------------  ----- \n",
      " 0   author          2461 non-null   object\n",
      " 1   claimed_source  1406 non-null   object\n",
      " 2   date            2329 non-null   object\n",
      " 3   title           2934 non-null   object\n",
      " 4   content         2934 non-null   object\n",
      " 5   url             2934 non-null   object\n",
      " 6   source          2934 non-null   object\n",
      " 7   tags            2934 non-null   object\n",
      " 8   summary         2934 non-null   object\n",
      " 9   categories      2934 non-null   object\n",
      " 10  subjects        2934 non-null   object\n",
      "dtypes: object(11)\n",
      "memory usage: 275.1+ KB\n"
     ]
    }
   ],
   "source": [
    "df.info()"
   ],
   "metadata": {
    "collapsed": false
   }
  },
  {
   "cell_type": "code",
   "execution_count": 7,
   "outputs": [],
   "source": [
    "df.to_csv(DATA_PATH / \"database.csv\")"
   ],
   "metadata": {
    "collapsed": false
   }
  },
  {
   "cell_type": "markdown",
   "source": [
    "### Check the data"
   ],
   "metadata": {
    "collapsed": false
   }
  },
  {
   "cell_type": "code",
   "execution_count": 11,
   "outputs": [
    {
     "name": "stdout",
     "output_type": "stream",
     "text": [
      "<class 'pandas.core.frame.DataFrame'>\n",
      "RangeIndex: 2934 entries, 0 to 2933\n",
      "Data columns (total 12 columns):\n",
      " #   Column          Non-Null Count  Dtype \n",
      "---  ------          --------------  ----- \n",
      " 0   Unnamed: 0      2934 non-null   int64 \n",
      " 1   author          2461 non-null   object\n",
      " 2   claimed_source  1406 non-null   object\n",
      " 3   date            2329 non-null   object\n",
      " 4   title           2934 non-null   object\n",
      " 5   content         2934 non-null   object\n",
      " 6   url             2934 non-null   object\n",
      " 7   source          2934 non-null   object\n",
      " 8   tags            2934 non-null   object\n",
      " 9   summary         2934 non-null   object\n",
      " 10  categories      2934 non-null   object\n",
      " 11  subjects        2934 non-null   object\n",
      "dtypes: int64(1), object(11)\n",
      "memory usage: 275.2+ KB\n"
     ]
    }
   ],
   "source": [
    "df = pd.read_csv(DATA_PATH / \"database.csv\", lineterminator=\"\\n\")\n",
    "df.info()"
   ],
   "metadata": {
    "collapsed": false
   }
  },
  {
   "cell_type": "code",
   "execution_count": null,
   "outputs": [],
   "source": [],
   "metadata": {
    "collapsed": false
   }
  }
 ],
 "metadata": {
  "kernelspec": {
   "display_name": "Python 3",
   "language": "python",
   "name": "python3"
  },
  "language_info": {
   "codemirror_mode": {
    "name": "ipython",
    "version": 2
   },
   "file_extension": ".py",
   "mimetype": "text/x-python",
   "name": "python",
   "nbconvert_exporter": "python",
   "pygments_lexer": "ipython2",
   "version": "2.7.6"
  }
 },
 "nbformat": 4,
 "nbformat_minor": 0
}
